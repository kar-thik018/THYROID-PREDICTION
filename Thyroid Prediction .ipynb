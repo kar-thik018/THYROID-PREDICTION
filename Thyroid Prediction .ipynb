{
 "cells": [
  {
   "cell_type": "markdown",
   "metadata": {
    "_uuid": "bbd660b62cc616efa33651beedc49b86045b784d"
   },
   "source": [
    "## <font size=5> <strong>THYROID PREDICTION\n",
    " "
   ]
  },
  {
   "cell_type": "markdown",
   "metadata": {
    "_uuid": "e41ea25bec5928203cec544d0413fecd4b4e5555"
   },
   "source": [
    "## I. Importing essential libraries"
   ]
  },
  {
   "cell_type": "code",
   "execution_count": 1,
   "metadata": {
    "_uuid": "f571f7e57c828d45fe55f6136fe8c2e796f74d4e"
   },
   "outputs": [],
   "source": [
    "## Import different libraries\n",
    "import pandas as pd\n",
    "import numpy as np\n",
    "import matplotlib.pyplot as plt\n",
    "import seaborn as sns\n",
    "%matplotlib inline\n",
    "\n",
    "\n",
    "from sklearn.metrics import confusion_matrix\n",
    "from sklearn.neighbors import KNeighborsClassifier\n",
    "\n",
    "from sklearn.tree import DecisionTreeClassifier\n",
    "from sklearn.ensemble import RandomForestClassifier\n",
    "\n",
    "from sklearn.metrics import accuracy_score\n",
    "\n",
    "from sklearn.utils import resample\n",
    "\n",
    "\n",
    "import warnings\n",
    "warnings.filterwarnings('ignore')"
   ]
  },
  {
   "cell_type": "markdown",
   "metadata": {
    "_uuid": "44e71221837f6fa60edc2c83b7492ddb019cc1cd"
   },
   "source": [
    "## II. Importing and understanding our dataset "
   ]
  },
  {
   "cell_type": "code",
   "execution_count": 2,
   "metadata": {
    "_uuid": "2a1a1dae64ae3c934849b2b918bc7d68cd59e3f6"
   },
   "outputs": [],
   "source": [
    "## Reading the data\n",
    "data = pd.read_csv('thyroid_data.csv')"
   ]
  },
  {
   "cell_type": "code",
   "execution_count": 3,
   "metadata": {
    "_uuid": "86353d54a331dbf55a63874402cf13e2a72c3750"
   },
   "outputs": [
    {
     "data": {
      "text/plain": [
       "pandas.core.frame.DataFrame"
      ]
     },
     "execution_count": 3,
     "metadata": {},
     "output_type": "execute_result"
    }
   ],
   "source": [
    "type(data)"
   ]
  },
  {
   "cell_type": "markdown",
   "metadata": {
    "_uuid": "44649a50ce58d2e10a032f7d0e7ecf435e932481"
   },
   "source": [
    "#### Shape of dataset"
   ]
  },
  {
   "cell_type": "code",
   "execution_count": 4,
   "metadata": {
    "_uuid": "0a2396061d262bee451e61dd51be84d0bd1ac9d0"
   },
   "outputs": [
    {
     "data": {
      "text/plain": [
       "(3221, 28)"
      ]
     },
     "execution_count": 4,
     "metadata": {},
     "output_type": "execute_result"
    }
   ],
   "source": [
    "data.shape"
   ]
  },
  {
   "cell_type": "markdown",
   "metadata": {
    "_uuid": "3e1de0c39fc28f086a5e8377cc5fbdbf91d377b3"
   },
   "source": [
    "#### Printing out a few columns"
   ]
  },
  {
   "cell_type": "code",
   "execution_count": 5,
   "metadata": {
    "_uuid": "87ebcc578e5959fe9a9c9a538c73122183454459"
   },
   "outputs": [
    {
     "data": {
      "text/html": [
       "<div>\n",
       "<style scoped>\n",
       "    .dataframe tbody tr th:only-of-type {\n",
       "        vertical-align: middle;\n",
       "    }\n",
       "\n",
       "    .dataframe tbody tr th {\n",
       "        vertical-align: top;\n",
       "    }\n",
       "\n",
       "    .dataframe thead th {\n",
       "        text-align: right;\n",
       "    }\n",
       "</style>\n",
       "<table border=\"1\" class=\"dataframe\">\n",
       "  <thead>\n",
       "    <tr style=\"text-align: right;\">\n",
       "      <th></th>\n",
       "      <th>S.no</th>\n",
       "      <th>Age</th>\n",
       "      <th>Sex</th>\n",
       "      <th>On Thyroxine</th>\n",
       "      <th>Query on Thyroxine</th>\n",
       "      <th>On Antithyroid Medication</th>\n",
       "      <th>Sick</th>\n",
       "      <th>Pregnant</th>\n",
       "      <th>Thyroid Surgery</th>\n",
       "      <th>I131 Treatment</th>\n",
       "      <th>...</th>\n",
       "      <th>TSH</th>\n",
       "      <th>T3 Measured</th>\n",
       "      <th>T3</th>\n",
       "      <th>TT4 Measured</th>\n",
       "      <th>TT4</th>\n",
       "      <th>T4U Measured</th>\n",
       "      <th>T4U</th>\n",
       "      <th>FTI Measured</th>\n",
       "      <th>FTI</th>\n",
       "      <th>Category</th>\n",
       "    </tr>\n",
       "  </thead>\n",
       "  <tbody>\n",
       "    <tr>\n",
       "      <th>0</th>\n",
       "      <td>0</td>\n",
       "      <td>41</td>\n",
       "      <td>F</td>\n",
       "      <td>f</td>\n",
       "      <td>f</td>\n",
       "      <td>f</td>\n",
       "      <td>f</td>\n",
       "      <td>f</td>\n",
       "      <td>f</td>\n",
       "      <td>f</td>\n",
       "      <td>...</td>\n",
       "      <td>1.3</td>\n",
       "      <td>t</td>\n",
       "      <td>2.5</td>\n",
       "      <td>t</td>\n",
       "      <td>125</td>\n",
       "      <td>t</td>\n",
       "      <td>1.14</td>\n",
       "      <td>t</td>\n",
       "      <td>109</td>\n",
       "      <td>negative</td>\n",
       "    </tr>\n",
       "    <tr>\n",
       "      <th>1</th>\n",
       "      <td>1</td>\n",
       "      <td>23</td>\n",
       "      <td>F</td>\n",
       "      <td>f</td>\n",
       "      <td>f</td>\n",
       "      <td>f</td>\n",
       "      <td>f</td>\n",
       "      <td>f</td>\n",
       "      <td>f</td>\n",
       "      <td>f</td>\n",
       "      <td>...</td>\n",
       "      <td>4.1</td>\n",
       "      <td>t</td>\n",
       "      <td>2</td>\n",
       "      <td>t</td>\n",
       "      <td>102</td>\n",
       "      <td>f</td>\n",
       "      <td>?</td>\n",
       "      <td>f</td>\n",
       "      <td>?</td>\n",
       "      <td>negative</td>\n",
       "    </tr>\n",
       "    <tr>\n",
       "      <th>2</th>\n",
       "      <td>2</td>\n",
       "      <td>46</td>\n",
       "      <td>M</td>\n",
       "      <td>f</td>\n",
       "      <td>f</td>\n",
       "      <td>f</td>\n",
       "      <td>f</td>\n",
       "      <td>f</td>\n",
       "      <td>f</td>\n",
       "      <td>f</td>\n",
       "      <td>...</td>\n",
       "      <td>0.98</td>\n",
       "      <td>f</td>\n",
       "      <td>?</td>\n",
       "      <td>t</td>\n",
       "      <td>109</td>\n",
       "      <td>t</td>\n",
       "      <td>0.91</td>\n",
       "      <td>t</td>\n",
       "      <td>120</td>\n",
       "      <td>negative</td>\n",
       "    </tr>\n",
       "    <tr>\n",
       "      <th>3</th>\n",
       "      <td>3</td>\n",
       "      <td>70</td>\n",
       "      <td>F</td>\n",
       "      <td>t</td>\n",
       "      <td>f</td>\n",
       "      <td>f</td>\n",
       "      <td>f</td>\n",
       "      <td>f</td>\n",
       "      <td>f</td>\n",
       "      <td>f</td>\n",
       "      <td>...</td>\n",
       "      <td>0.16</td>\n",
       "      <td>t</td>\n",
       "      <td>1.9</td>\n",
       "      <td>t</td>\n",
       "      <td>175</td>\n",
       "      <td>f</td>\n",
       "      <td>?</td>\n",
       "      <td>f</td>\n",
       "      <td>?</td>\n",
       "      <td>negative</td>\n",
       "    </tr>\n",
       "    <tr>\n",
       "      <th>4</th>\n",
       "      <td>4</td>\n",
       "      <td>70</td>\n",
       "      <td>F</td>\n",
       "      <td>f</td>\n",
       "      <td>f</td>\n",
       "      <td>f</td>\n",
       "      <td>f</td>\n",
       "      <td>f</td>\n",
       "      <td>f</td>\n",
       "      <td>f</td>\n",
       "      <td>...</td>\n",
       "      <td>0.72</td>\n",
       "      <td>t</td>\n",
       "      <td>1.2</td>\n",
       "      <td>t</td>\n",
       "      <td>61</td>\n",
       "      <td>t</td>\n",
       "      <td>0.87</td>\n",
       "      <td>t</td>\n",
       "      <td>70</td>\n",
       "      <td>negative</td>\n",
       "    </tr>\n",
       "  </tbody>\n",
       "</table>\n",
       "<p>5 rows × 28 columns</p>\n",
       "</div>"
      ],
      "text/plain": [
       "   S.no Age Sex On Thyroxine Query on Thyroxine On Antithyroid Medication  \\\n",
       "0     0  41   F            f                  f                         f   \n",
       "1     1  23   F            f                  f                         f   \n",
       "2     2  46   M            f                  f                         f   \n",
       "3     3  70   F            t                  f                         f   \n",
       "4     4  70   F            f                  f                         f   \n",
       "\n",
       "  Sick Pregnant Thyroid Surgery I131 Treatment  ...   TSH T3 Measured   T3  \\\n",
       "0    f        f               f              f  ...   1.3           t  2.5   \n",
       "1    f        f               f              f  ...   4.1           t    2   \n",
       "2    f        f               f              f  ...  0.98           f    ?   \n",
       "3    f        f               f              f  ...  0.16           t  1.9   \n",
       "4    f        f               f              f  ...  0.72           t  1.2   \n",
       "\n",
       "  TT4 Measured  TT4 T4U Measured   T4U FTI Measured  FTI  Category  \n",
       "0            t  125            t  1.14            t  109  negative  \n",
       "1            t  102            f     ?            f    ?  negative  \n",
       "2            t  109            t  0.91            t  120  negative  \n",
       "3            t  175            f     ?            f    ?  negative  \n",
       "4            t   61            t  0.87            t   70  negative  \n",
       "\n",
       "[5 rows x 28 columns]"
      ]
     },
     "execution_count": 5,
     "metadata": {},
     "output_type": "execute_result"
    }
   ],
   "source": [
    "data.head(5)"
   ]
  },
  {
   "cell_type": "code",
   "execution_count": 6,
   "metadata": {
    "_uuid": "5132eb43114bf99d5f857f459d0c9d2faffc9644"
   },
   "outputs": [
    {
     "data": {
      "text/html": [
       "<div>\n",
       "<style scoped>\n",
       "    .dataframe tbody tr th:only-of-type {\n",
       "        vertical-align: middle;\n",
       "    }\n",
       "\n",
       "    .dataframe tbody tr th {\n",
       "        vertical-align: top;\n",
       "    }\n",
       "\n",
       "    .dataframe thead th {\n",
       "        text-align: right;\n",
       "    }\n",
       "</style>\n",
       "<table border=\"1\" class=\"dataframe\">\n",
       "  <thead>\n",
       "    <tr style=\"text-align: right;\">\n",
       "      <th></th>\n",
       "      <th>S.no</th>\n",
       "      <th>Age</th>\n",
       "      <th>Sex</th>\n",
       "      <th>On Thyroxine</th>\n",
       "      <th>Query on Thyroxine</th>\n",
       "      <th>On Antithyroid Medication</th>\n",
       "      <th>Sick</th>\n",
       "      <th>Pregnant</th>\n",
       "      <th>Thyroid Surgery</th>\n",
       "      <th>I131 Treatment</th>\n",
       "      <th>...</th>\n",
       "      <th>TSH</th>\n",
       "      <th>T3 Measured</th>\n",
       "      <th>T3</th>\n",
       "      <th>TT4 Measured</th>\n",
       "      <th>TT4</th>\n",
       "      <th>T4U Measured</th>\n",
       "      <th>T4U</th>\n",
       "      <th>FTI Measured</th>\n",
       "      <th>FTI</th>\n",
       "      <th>Category</th>\n",
       "    </tr>\n",
       "  </thead>\n",
       "  <tbody>\n",
       "    <tr>\n",
       "      <th>2359</th>\n",
       "      <td>2391</td>\n",
       "      <td>59</td>\n",
       "      <td>F</td>\n",
       "      <td>f</td>\n",
       "      <td>f</td>\n",
       "      <td>f</td>\n",
       "      <td>f</td>\n",
       "      <td>f</td>\n",
       "      <td>f</td>\n",
       "      <td>f</td>\n",
       "      <td>...</td>\n",
       "      <td>0.1</td>\n",
       "      <td>t</td>\n",
       "      <td>2.5</td>\n",
       "      <td>t</td>\n",
       "      <td>100</td>\n",
       "      <td>t</td>\n",
       "      <td>0.98</td>\n",
       "      <td>t</td>\n",
       "      <td>103</td>\n",
       "      <td>negative</td>\n",
       "    </tr>\n",
       "    <tr>\n",
       "      <th>1647</th>\n",
       "      <td>1664</td>\n",
       "      <td>41</td>\n",
       "      <td>F</td>\n",
       "      <td>t</td>\n",
       "      <td>f</td>\n",
       "      <td>f</td>\n",
       "      <td>f</td>\n",
       "      <td>f</td>\n",
       "      <td>f</td>\n",
       "      <td>f</td>\n",
       "      <td>...</td>\n",
       "      <td>1.8</td>\n",
       "      <td>t</td>\n",
       "      <td>2.4</td>\n",
       "      <td>t</td>\n",
       "      <td>115</td>\n",
       "      <td>t</td>\n",
       "      <td>1.11</td>\n",
       "      <td>t</td>\n",
       "      <td>104</td>\n",
       "      <td>negative</td>\n",
       "    </tr>\n",
       "    <tr>\n",
       "      <th>1833</th>\n",
       "      <td>1854</td>\n",
       "      <td>23</td>\n",
       "      <td>F</td>\n",
       "      <td>f</td>\n",
       "      <td>f</td>\n",
       "      <td>f</td>\n",
       "      <td>f</td>\n",
       "      <td>f</td>\n",
       "      <td>f</td>\n",
       "      <td>f</td>\n",
       "      <td>...</td>\n",
       "      <td>2.4</td>\n",
       "      <td>t</td>\n",
       "      <td>1.3</td>\n",
       "      <td>t</td>\n",
       "      <td>72</td>\n",
       "      <td>t</td>\n",
       "      <td>0.9</td>\n",
       "      <td>t</td>\n",
       "      <td>80</td>\n",
       "      <td>negative</td>\n",
       "    </tr>\n",
       "    <tr>\n",
       "      <th>871</th>\n",
       "      <td>878</td>\n",
       "      <td>14</td>\n",
       "      <td>F</td>\n",
       "      <td>f</td>\n",
       "      <td>f</td>\n",
       "      <td>f</td>\n",
       "      <td>f</td>\n",
       "      <td>f</td>\n",
       "      <td>f</td>\n",
       "      <td>f</td>\n",
       "      <td>...</td>\n",
       "      <td>3.6</td>\n",
       "      <td>t</td>\n",
       "      <td>1.2</td>\n",
       "      <td>t</td>\n",
       "      <td>103</td>\n",
       "      <td>t</td>\n",
       "      <td>0.88</td>\n",
       "      <td>t</td>\n",
       "      <td>118</td>\n",
       "      <td>negative</td>\n",
       "    </tr>\n",
       "    <tr>\n",
       "      <th>2572</th>\n",
       "      <td>2609</td>\n",
       "      <td>47</td>\n",
       "      <td>M</td>\n",
       "      <td>t</td>\n",
       "      <td>f</td>\n",
       "      <td>f</td>\n",
       "      <td>f</td>\n",
       "      <td>f</td>\n",
       "      <td>f</td>\n",
       "      <td>f</td>\n",
       "      <td>...</td>\n",
       "      <td>2.7</td>\n",
       "      <td>t</td>\n",
       "      <td>2</td>\n",
       "      <td>t</td>\n",
       "      <td>110</td>\n",
       "      <td>t</td>\n",
       "      <td>1.02</td>\n",
       "      <td>t</td>\n",
       "      <td>108</td>\n",
       "      <td>negative</td>\n",
       "    </tr>\n",
       "  </tbody>\n",
       "</table>\n",
       "<p>5 rows × 28 columns</p>\n",
       "</div>"
      ],
      "text/plain": [
       "      S.no Age Sex On Thyroxine Query on Thyroxine On Antithyroid Medication  \\\n",
       "2359  2391  59   F            f                  f                         f   \n",
       "1647  1664  41   F            t                  f                         f   \n",
       "1833  1854  23   F            f                  f                         f   \n",
       "871    878  14   F            f                  f                         f   \n",
       "2572  2609  47   M            t                  f                         f   \n",
       "\n",
       "     Sick Pregnant Thyroid Surgery I131 Treatment  ...  TSH T3 Measured   T3  \\\n",
       "2359    f        f               f              f  ...  0.1           t  2.5   \n",
       "1647    f        f               f              f  ...  1.8           t  2.4   \n",
       "1833    f        f               f              f  ...  2.4           t  1.3   \n",
       "871     f        f               f              f  ...  3.6           t  1.2   \n",
       "2572    f        f               f              f  ...  2.7           t    2   \n",
       "\n",
       "     TT4 Measured  TT4 T4U Measured   T4U FTI Measured  FTI  Category  \n",
       "2359            t  100            t  0.98            t  103  negative  \n",
       "1647            t  115            t  1.11            t  104  negative  \n",
       "1833            t   72            t   0.9            t   80  negative  \n",
       "871             t  103            t  0.88            t  118  negative  \n",
       "2572            t  110            t  1.02            t  108  negative  \n",
       "\n",
       "[5 rows x 28 columns]"
      ]
     },
     "execution_count": 6,
     "metadata": {},
     "output_type": "execute_result"
    }
   ],
   "source": [
    "data.sample(5)"
   ]
  },
  {
   "cell_type": "markdown",
   "metadata": {
    "_uuid": "1113236bec2848d33c5bfe088ff0d03246b8b7ce"
   },
   "source": [
    "#### Description"
   ]
  },
  {
   "cell_type": "code",
   "execution_count": 7,
   "metadata": {
    "_uuid": "c31619815cb0dae5586985671fdc21110b39a821"
   },
   "outputs": [
    {
     "data": {
      "text/html": [
       "<div>\n",
       "<style scoped>\n",
       "    .dataframe tbody tr th:only-of-type {\n",
       "        vertical-align: middle;\n",
       "    }\n",
       "\n",
       "    .dataframe tbody tr th {\n",
       "        vertical-align: top;\n",
       "    }\n",
       "\n",
       "    .dataframe thead th {\n",
       "        text-align: right;\n",
       "    }\n",
       "</style>\n",
       "<table border=\"1\" class=\"dataframe\">\n",
       "  <thead>\n",
       "    <tr style=\"text-align: right;\">\n",
       "      <th></th>\n",
       "      <th>S.no</th>\n",
       "    </tr>\n",
       "  </thead>\n",
       "  <tbody>\n",
       "    <tr>\n",
       "      <th>count</th>\n",
       "      <td>3221.000000</td>\n",
       "    </tr>\n",
       "    <tr>\n",
       "      <th>mean</th>\n",
       "      <td>1387.205837</td>\n",
       "    </tr>\n",
       "    <tr>\n",
       "      <th>std</th>\n",
       "      <td>808.069932</td>\n",
       "    </tr>\n",
       "    <tr>\n",
       "      <th>min</th>\n",
       "      <td>0.000000</td>\n",
       "    </tr>\n",
       "    <tr>\n",
       "      <th>25%</th>\n",
       "      <td>679.000000</td>\n",
       "    </tr>\n",
       "    <tr>\n",
       "      <th>50%</th>\n",
       "      <td>1388.000000</td>\n",
       "    </tr>\n",
       "    <tr>\n",
       "      <th>75%</th>\n",
       "      <td>2080.000000</td>\n",
       "    </tr>\n",
       "    <tr>\n",
       "      <th>max</th>\n",
       "      <td>2799.000000</td>\n",
       "    </tr>\n",
       "  </tbody>\n",
       "</table>\n",
       "</div>"
      ],
      "text/plain": [
       "              S.no\n",
       "count  3221.000000\n",
       "mean   1387.205837\n",
       "std     808.069932\n",
       "min       0.000000\n",
       "25%     679.000000\n",
       "50%    1388.000000\n",
       "75%    2080.000000\n",
       "max    2799.000000"
      ]
     },
     "execution_count": 7,
     "metadata": {},
     "output_type": "execute_result"
    }
   ],
   "source": [
    "data.describe()"
   ]
  },
  {
   "cell_type": "code",
   "execution_count": 8,
   "metadata": {
    "_uuid": "718b82039841c137ab7e08a6e79e264643134642"
   },
   "outputs": [
    {
     "name": "stdout",
     "output_type": "stream",
     "text": [
      "<class 'pandas.core.frame.DataFrame'>\n",
      "RangeIndex: 3221 entries, 0 to 3220\n",
      "Data columns (total 28 columns):\n",
      " #   Column                     Non-Null Count  Dtype \n",
      "---  ------                     --------------  ----- \n",
      " 0   S.no                       3221 non-null   int64 \n",
      " 1   Age                        3221 non-null   object\n",
      " 2   Sex                        3221 non-null   object\n",
      " 3   On Thyroxine               3221 non-null   object\n",
      " 4   Query on Thyroxine         3221 non-null   object\n",
      " 5   On Antithyroid Medication  3221 non-null   object\n",
      " 6   Sick                       3221 non-null   object\n",
      " 7   Pregnant                   3221 non-null   object\n",
      " 8   Thyroid Surgery            3221 non-null   object\n",
      " 9   I131 Treatment             3221 non-null   object\n",
      " 10  Query Hypothyroid          3221 non-null   object\n",
      " 11  Query Hyperthyroid         3221 non-null   object\n",
      " 12  Lithium                    3221 non-null   object\n",
      " 13  Goitre                     3221 non-null   object\n",
      " 14  Tumor                      3221 non-null   object\n",
      " 15  Hypopituitary              3221 non-null   object\n",
      " 16  Psych                      3221 non-null   object\n",
      " 17  TSH Measured               3221 non-null   object\n",
      " 18  TSH                        3221 non-null   object\n",
      " 19  T3 Measured                3221 non-null   object\n",
      " 20  T3                         3221 non-null   object\n",
      " 21  TT4 Measured               3221 non-null   object\n",
      " 22  TT4                        3221 non-null   object\n",
      " 23  T4U Measured               3221 non-null   object\n",
      " 24  T4U                        3221 non-null   object\n",
      " 25  FTI Measured               3221 non-null   object\n",
      " 26  FTI                        3221 non-null   object\n",
      " 27  Category                   3221 non-null   object\n",
      "dtypes: int64(1), object(27)\n",
      "memory usage: 704.7+ KB\n"
     ]
    }
   ],
   "source": [
    "data.info()"
   ]
  },
  {
   "cell_type": "markdown",
   "metadata": {
    "_uuid": "85b59fefde7c5ecdb50e3b8da0cb719f4e14630f"
   },
   "source": [
    "#### columns:"
   ]
  },
  {
   "cell_type": "code",
   "execution_count": 9,
   "metadata": {
    "_uuid": "5593d1021d54aad598c21f877e57969e6b47f5a8"
   },
   "outputs": [
    {
     "data": {
      "text/plain": [
       "Index(['S.no', 'Age', 'Sex', 'On Thyroxine', 'Query on Thyroxine',\n",
       "       'On Antithyroid Medication', 'Sick', 'Pregnant', 'Thyroid Surgery',\n",
       "       'I131 Treatment', 'Query Hypothyroid', 'Query Hyperthyroid', 'Lithium',\n",
       "       'Goitre', 'Tumor', 'Hypopituitary', 'Psych', 'TSH Measured', 'TSH',\n",
       "       'T3 Measured', 'T3', 'TT4 Measured', 'TT4', 'T4U Measured', 'T4U',\n",
       "       'FTI Measured', 'FTI', 'Category'],\n",
       "      dtype='object')"
      ]
     },
     "execution_count": 9,
     "metadata": {},
     "output_type": "execute_result"
    }
   ],
   "source": [
    "data.columns"
   ]
  },
  {
   "cell_type": "code",
   "execution_count": 10,
   "metadata": {},
   "outputs": [
    {
     "name": "stdout",
     "output_type": "stream",
     "text": [
      "No of hyperthyroid in Dataset: 77\n",
      "No of hypothyroid in Dataset: 220\n",
      "No of sick in Dataset: 171\n",
      "No of negative in Dataset: 2753\n"
     ]
    }
   ],
   "source": [
    "n = len(data[data['Category'] == 'hyperthyroid'])\n",
    "print(\"No of hyperthyroid in Dataset:\",n)\n",
    "\n",
    "n1 = len(data[data['Category'] == 'hypothyroid'])\n",
    "print(\"No of hypothyroid in Dataset:\",n1)\n",
    "\n",
    "n2 = len(data[data['Category'] == 'sick'])\n",
    "print(\"No of sick in Dataset:\",n2)\n",
    "\n",
    "n3 = len(data[data['Category'] == 'negative'])\n",
    "print(\"No of negative in Dataset:\",n3)"
   ]
  },
  {
   "cell_type": "code",
   "execution_count": 11,
   "metadata": {},
   "outputs": [
    {
     "data": {
      "text/plain": [
       "negative        2753\n",
       "hypothyroid      220\n",
       "sick             171\n",
       "hyperthyroid      77\n",
       "Name: Category, dtype: int64"
      ]
     },
     "execution_count": 11,
     "metadata": {},
     "output_type": "execute_result"
    }
   ],
   "source": [
    "data['Category'].value_counts()"
   ]
  },
  {
   "cell_type": "markdown",
   "metadata": {
    "_uuid": "6a970312b67b588610a8579ecc2ba4bac0fcee04"
   },
   "source": [
    "#### Analysing the 'target' variable"
   ]
  },
  {
   "cell_type": "code",
   "execution_count": 12,
   "metadata": {
    "_uuid": "b883243919bd382193ed15e2a90f9b522bf6f1f7"
   },
   "outputs": [
    {
     "data": {
      "text/plain": [
       "count         3221\n",
       "unique           4\n",
       "top       negative\n",
       "freq          2753\n",
       "Name: Category, dtype: object"
      ]
     },
     "execution_count": 12,
     "metadata": {},
     "output_type": "execute_result"
    }
   ],
   "source": [
    "data[\"Category\"].describe()"
   ]
  },
  {
   "cell_type": "code",
   "execution_count": 13,
   "metadata": {
    "_uuid": "9c107b83e0148914826282bf1f0ab28505d577ab"
   },
   "outputs": [
    {
     "data": {
      "text/plain": [
       "array(['negative', 'hyperthyroid', 'hypothyroid', 'sick'], dtype=object)"
      ]
     },
     "execution_count": 13,
     "metadata": {},
     "output_type": "execute_result"
    }
   ],
   "source": [
    "data[\"Category\"].unique()"
   ]
  },
  {
   "cell_type": "code",
   "execution_count": 14,
   "metadata": {},
   "outputs": [
    {
     "data": {
      "text/plain": [
       "S.no                         0\n",
       "Age                          0\n",
       "Sex                          0\n",
       "On Thyroxine                 0\n",
       "Query on Thyroxine           0\n",
       "On Antithyroid Medication    0\n",
       "Sick                         0\n",
       "Pregnant                     0\n",
       "Thyroid Surgery              0\n",
       "I131 Treatment               0\n",
       "Query Hypothyroid            0\n",
       "Query Hyperthyroid           0\n",
       "Lithium                      0\n",
       "Goitre                       0\n",
       "Tumor                        0\n",
       "Hypopituitary                0\n",
       "Psych                        0\n",
       "TSH Measured                 0\n",
       "TSH                          0\n",
       "T3 Measured                  0\n",
       "T3                           0\n",
       "TT4 Measured                 0\n",
       "TT4                          0\n",
       "T4U Measured                 0\n",
       "T4U                          0\n",
       "FTI Measured                 0\n",
       "FTI                          0\n",
       "Category                     0\n",
       "dtype: int64"
      ]
     },
     "execution_count": 14,
     "metadata": {},
     "output_type": "execute_result"
    }
   ],
   "source": [
    "## Checking the missing values\n",
    "data.isnull().sum()"
   ]
  },
  {
   "cell_type": "code",
   "execution_count": 15,
   "metadata": {},
   "outputs": [
    {
     "name": "stdout",
     "output_type": "stream",
     "text": [
      "Age 1\n",
      "Sex 127\n",
      "TSH 247\n",
      "T3 589\n",
      "TT4 142\n",
      "T4U 276\n",
      "FTI 274\n"
     ]
    }
   ],
   "source": [
    "for column in data.columns:\n",
    "    count=data[column][data[column]=='?'].count()\n",
    "    if count != 0:\n",
    "        print(column,data[column][data[column]=='?'].count())"
   ]
  },
  {
   "cell_type": "code",
   "execution_count": 16,
   "metadata": {},
   "outputs": [],
   "source": [
    "## Let's drop some unnecessary columns\n",
    "data=data.drop([ 'S.no','On Thyroxine', 'Query on Thyroxine',\n",
    "       'On Antithyroid Medication',\n",
    "       'I131 Treatment', 'Query Hypothyroid', 'Query Hyperthyroid', 'Lithium',\n",
    "        'TSH Measured','Hypopituitary','Psych',\n",
    "       'T3 Measured',  'TT4 Measured', 'T4U Measured', \n",
    "       'FTI Measured'],axis=1)"
   ]
  },
  {
   "cell_type": "code",
   "execution_count": 17,
   "metadata": {},
   "outputs": [
    {
     "data": {
      "text/plain": [
       "Index(['Age', 'Sex', 'Sick', 'Pregnant', 'Thyroid Surgery', 'Goitre', 'Tumor',\n",
       "       'TSH', 'T3', 'TT4', 'T4U', 'FTI', 'Category'],\n",
       "      dtype='object')"
      ]
     },
     "execution_count": 17,
     "metadata": {},
     "output_type": "execute_result"
    }
   ],
   "source": [
    "data.columns"
   ]
  },
  {
   "cell_type": "code",
   "execution_count": 18,
   "metadata": {},
   "outputs": [],
   "source": [
    "## Now replace the '?' values with numpy nan\n",
    "for column in data.columns:\n",
    "    count=data[column][data[column]== '?'].count()\n",
    "    if count!=0:\n",
    "        data[column]=data[column].replace('?',np.nan)"
   ]
  },
  {
   "cell_type": "code",
   "execution_count": 19,
   "metadata": {},
   "outputs": [
    {
     "name": "stdout",
     "output_type": "stream",
     "text": [
      "Age 0\n",
      "Sex 0\n",
      "Sick 0\n",
      "Pregnant 0\n",
      "Thyroid Surgery 0\n",
      "Goitre 0\n",
      "Tumor 0\n",
      "TSH 0\n",
      "T3 0\n",
      "TT4 0\n",
      "T4U 0\n",
      "FTI 0\n",
      "Category 0\n"
     ]
    }
   ],
   "source": [
    "for column in data.columns:\n",
    "    count=data[column][data[column]=='?'].count()\n",
    "    if count == 0:\n",
    "        print(column,data[column][data[column]=='?'].count())"
   ]
  },
  {
   "cell_type": "code",
   "execution_count": 20,
   "metadata": {},
   "outputs": [
    {
     "name": "stdout",
     "output_type": "stream",
     "text": [
      "Age ['41' '23' '46' '70' '18' '59' '80' '66' '68' '84' '67' '71' '28' '65'\n",
      " '42' '63' '51' '81' '54' '55' '60' '25' '73' '34' '78' '37' '85' '26'\n",
      " '58' '64' '44' '48' '61' '35' '83' '21' '87' '53' '77' '27' '69' '74'\n",
      " '38' '76' '45' '36' '22' '43' '72' '82' '31' '39' '49' '62' '57' '1' '50'\n",
      " '30' '29' '75' '19' '7' '79' '17' '24' '15' '32' '47' '16' '52' '33' '13'\n",
      " '10' '89' '56' '20' '90' '40' '88' '14' '86' '94' '12' '4' '11' '8' '5'\n",
      " '455' '2' '91' '6' nan '93' '92']\n",
      "Sex ['F' 'M' nan]\n",
      "Sick ['f' 't']\n",
      "Pregnant ['f' 't']\n",
      "Thyroid Surgery ['f' 't']\n",
      "Goitre ['f' 't']\n",
      "Tumor ['f' 't']\n",
      "TSH ['1.3' '4.1' '0.98' '0.16' '0.72' '0.03' nan '2.2' '0.6' '2.4' '1.1' '2.8'\n",
      " '3.3' '12' '1.2' '1.5' '6' '2.1' '0.1' '0.8' '1.9' '3.1' '0.2' '13' '0.3'\n",
      " '0.035' '2.5' '0.5' '1.7' '7.3' '1.8' '0.26' '45' '5.4' '0.99' '0.25'\n",
      " '0.92' '0.15' '0.64' '1' '0.4' '2' '2.6' '14.8' '15' '19' '0.02' '3'\n",
      " '2.9' '3.2' '9' '1.6' '4.3' '0.005' '0.31' '0.61' '0.05' '7.8' '160'\n",
      " '0.025' '1.4' '0.01' '8.8' '151' '0.04' '3.9' '9.4' '2.7' '2.3' '0.94'\n",
      " '0.045' '3.5' '0.88' '0.08' '4.5' '0.68' '0.7' '0.67' '27' '6.1' '0.75'\n",
      " '0.55' '26' '5.2' '0.77' '0.07' '0.9' '11.4' '143' '0.45' '0.57' '0.65'\n",
      " '0.015' '16' '108' '0.83' '9.2' '86' '0.62' '0.59' '9.1' '5.9' '52'\n",
      " '0.33' '31' '5.8' '0.28' '51' '6.3' '4.4' '9.6' '3.4' '0.09' '24' '0.76'\n",
      " '42' '25' '10' '4.6' '8.6' '0.66' '6.2' '0.79' '28' '0.86' '9.7' '0.84'\n",
      " '17' '18' '55' '14' '3.7' '0.87' '6.7' '0.74' '7.6' '0.065' '0.29' '0.37'\n",
      " '8' '11' '0.48' '44' '7.9' '5' '7.2' '0.89' '0.93' '0.97' '0.12' '6.4'\n",
      " '33' '0.85' '7.1' '0.73' '199' '8.2' '188' '0.22' '98' '22' '6.6' '5.1'\n",
      " '0.06' '0.42' '3.8' '35' '4' '0.78' '0.63' '0.52' '60' '0.43' '5.6' '6.9'\n",
      " '3.6' '29' '0.38' '4.9' '0.41' '9.9' '7.5' '34' '6.5' '4.7' '103' '0.95'\n",
      " '0.14' '0.35' '4.2' '0.81' '0.54' '0.58' '8.9' '5.5' '0.34' '9.3' '0.13'\n",
      " '54' '0.39' '8.3' '478' '21' '6.8' '0.32' '0.23' '0.24' '8.1' '0.91'\n",
      " '5.3' '100' '0.27' '1.01' '58' '41' '183' '18.4' '0.47' '0.17' '12.1'\n",
      " '0.19' '0.82' '43' '0.44' '70' '7.7' '8.4' '0.69' '8.5' '0.21' '82'\n",
      " '0.055' '0.96' '0.71' '38' '0.36' '9.8' '7' '0.46' '11.1' '39' '76' '5.7'\n",
      " '32' '126' '26.4' '0.53' '0.49' '36' '178' '145' '47' '4.8' '10.3' '89'\n",
      " '7.4' '472' '0.51' '116' '61' '99' '46' '78' '468']\n",
      "T3 ['2.5' '2' nan '1.9' '1.2' '0.6' '2.2' '1.6' '3.8' '1.7' '1.8' '2.6' '2.1'\n",
      " '0.3' '5.5' '1.4' '3.1' '1.5' '2.3' '2.4' '2.7' '0.9' '1' '2.8' '2.9'\n",
      " '0.8' '1.3' '0.4' '3.3' '3.5' '3.4' '1.1' '4.2' '3.7' '3' '0.7' '4.8'\n",
      " '4.3' '0.05' '3.2' '5.4' '4' '0.5' '0.2' '3.6' '5.2' '5' '6' '5.3' '3.9'\n",
      " '4.6' '4.5' '7.3' '4.7' '6.7' '4.1' '6.1' '0.1' '4.9' '10.6' '5.1' '7'\n",
      " '6.2' '4.4' '7.1']\n",
      "TT4 ['125' '102' '109' '175' '61' '183' '72' '80' '123' '83' '115' '152' '171'\n",
      " '97' '99' '70' '117' '121' '130' '108' '104' '134' '199' '57' '129' '113'\n",
      " '119' '84' '81' '95' '66' '101' '147' '120' '69' nan '39' '87' '63' '133'\n",
      " '86' '163' '162' '103' '96' '151' '112' '82' '138' '71' '77' '93' '107'\n",
      " '237' '110' '67' '88' '160' '118' '136' '114' '116' '94' '161' '11' '32'\n",
      " '124' '137' '92' '135' '105' '150' '126' '146' '91' '217' '141' '159'\n",
      " '122' '100' '111' '140' '205' '225' '85' '90' '74' '219' '127' '132'\n",
      " '128' '106' '144' '131' '56' '79' '142' '98' '177' '139' '78' '189' '180'\n",
      " '73' '145' '184' '38' '156' '75' '148' '14' '76' '54' '58' '27' '65'\n",
      " '193' '13' '143' '12' '64' '257' '164' '59' '167' '18' '41' '176' '37'\n",
      " '33' '44' '45' '154' '174' '203' '244' '62' '158' '60' '187' '250' '181'\n",
      " '157' '223' '272' '166' '213' '235' '10' '68' '231' '191' '48' '5.8'\n",
      " '169' '149' '210' '40' '155' '232' '42' '204' '430' '198' '230' '15'\n",
      " '170' '165' '47' '168' '194' '89' '52' '179' '192' '172' '4.8' '50' '182'\n",
      " '197' '214' '246' '196' '207' '19' '153' '22' '46' '200' '35' '226' '201'\n",
      " '233' '206' '31' '255' '178' '239' '195' '6' '36' '2' '3' '289' '240'\n",
      " '209' '43' '34' '252' '29' '263' '301' '23' '188' '211' '253' '21' '173']\n",
      "T4U ['1.14' nan '0.91' '0.87' '1.3' '0.92' '0.7' '0.93' '0.89' '0.95' '0.99'\n",
      " '1.13' '0.86' '0.96' '0.94' '0.9' '1.02' '1.05' '0.62' '1.06' '1.55'\n",
      " '0.83' '1.09' '1.07' '1.27' '0.76' '1.16' '1' '0.56' '0.81' '0.68' '0.78'\n",
      " '0.85' '1.35' '1.15' '0.82' '1.03' '1.58' '0.79' '1.17' '0.71' '0.72'\n",
      " '0.88' '1.11' '1.2' '1.1' '1.33' '0.77' '1.24' '0.53' '1.44' '1.63'\n",
      " '1.51' '1.42' '1.23' '1.01' '0.98' '0.61' '1.12' '1.43' '1.25' '1.41'\n",
      " '1.68' '0.97' '0.84' '0.8' '1.04' '0.73' '1.08' '1.26' '1.46' '1.29'\n",
      " '1.34' '1.66' '1.21' '1.19' '0.75' '0.52' '1.83' '1.39' '1.5' '1.93'\n",
      " '1.18' '0.74' '0.58' '1.82' '0.6' '1.67' '1.22' '0.66' '0.67' '1.31'\n",
      " '0.54' '1.77' '1.59' '1.97' '1.69' '1.38' '1.28' '1.4' '0.69' '0.65'\n",
      " '1.74' '2.03' '1.73' '1.65' '1.36' '1.52' '0.57' '1.53' '1.84' '1.57'\n",
      " '1.75' '1.32' '1.37' '0.64' '1.79' '1.8' '0.48' '1.71' '1.62' '1.76'\n",
      " '1.56' '1.48' '0.59' '0.31' '1.94' '2.12' '1.47' '0.63' '0.944' '0.49'\n",
      " '1.88' '0.5' '0.38' '1.49' '0.41' '1.61' '1.7']\n",
      "FTI ['109' nan '120' '70' '141' '78' '115' '132' '93' '121' '153' '151' '107'\n",
      " '119' '87' '81' '104' '130' '106' '116' '131' '190' '92' '102' '76' '98'\n",
      " '90' '61' '94' '129' '95' '91' '33' '113' '148' '140' '171' '155' '186'\n",
      " '122' '136' '110' '111' '97' '72' '100' '88' '67' '84' '103' '135' '203'\n",
      " '112' '117' '180' '142' '145' '156' '96' '134' '8.9' '60' '139' '41' '99'\n",
      " '89' '146' '124' '105' '85' '157' '143' '71' '221' '28' '108' '137' '83'\n",
      " '74' '170' '65' '101' '127' '274' '154' '114' '62' '86' '126' '125' '64'\n",
      " '172' '162' '79' '118' '73' '152' '163' '149' '14' '51' '165' '77' '32'\n",
      " '69' '80' '11' '54' '164' '123' '144' '10' '214' '200' '160' '53' '16'\n",
      " '138' '169' '56' '47' '133' '43' '68' '179' '224' '220' '82' '362' '182'\n",
      " '75' '66' '161' '57' '58' '312' '63' '128' '147' '158' '281' '207' '216'\n",
      " '251' '194' '46' '7' '42' '174' '395' '185' '13' '201' '48' '173' '167'\n",
      " '188' '150' '235' '175' '159' '5.4' '189' '59' '166' '34' '228' '232'\n",
      " '217' '177' '176' '195' '219' '17' '210' '168' '205' '39' '187' '50'\n",
      " '349' '52' '206' '253' '242' '244' '213' '178' '247' '215' '198' '19'\n",
      " '237' '37' '7.6' '24' '2' '3' '191' '223' '9' '29' '222' '204' '26' '218'\n",
      " '197' '49' '209' '183']\n",
      "Category ['negative' 'hyperthyroid' 'hypothyroid' 'sick']\n"
     ]
    }
   ],
   "source": [
    "##  Unique Values\n",
    "for column in data.columns:\n",
    "    print(column,(data[column].unique()))"
   ]
  },
  {
   "cell_type": "code",
   "execution_count": 21,
   "metadata": {},
   "outputs": [
    {
     "data": {
      "text/plain": [
       "Age                object\n",
       "Sex                object\n",
       "Sick               object\n",
       "Pregnant           object\n",
       "Thyroid Surgery    object\n",
       "Goitre             object\n",
       "Tumor              object\n",
       "TSH                object\n",
       "T3                 object\n",
       "TT4                object\n",
       "T4U                object\n",
       "FTI                object\n",
       "Category           object\n",
       "dtype: object"
      ]
     },
     "execution_count": 21,
     "metadata": {},
     "output_type": "execute_result"
    }
   ],
   "source": [
    "data.dtypes"
   ]
  },
  {
   "cell_type": "markdown",
   "metadata": {},
   "source": [
    "## Handling Missing"
   ]
  },
  {
   "cell_type": "code",
   "execution_count": 22,
   "metadata": {},
   "outputs": [],
   "source": [
    "data['Age'].fillna((data['Age'].median()), inplace = True)\n",
    "data['TSH'].fillna((data['TSH'].median()), inplace = True)\n",
    "data['T3'].fillna((data['T3'].median()), inplace = True)\n",
    "data['TT4'].fillna((data['TT4'].median()), inplace = True)\n",
    "data['T4U'].fillna((data['T4U'].median()), inplace = True)\n",
    "data['FTI'].fillna((data['FTI'].median()), inplace = True)"
   ]
  },
  {
   "cell_type": "markdown",
   "metadata": {},
   "source": [
    "### Handling nominal categorical variables"
   ]
  },
  {
   "cell_type": "code",
   "execution_count": 23,
   "metadata": {},
   "outputs": [],
   "source": [
    "## We will perform one hot encoding for nominal categorical variable.\n",
    "sex = data[[\"Sex\"]]\n",
    "sex = pd.get_dummies(sex, drop_first= True)"
   ]
  },
  {
   "cell_type": "code",
   "execution_count": 24,
   "metadata": {},
   "outputs": [],
   "source": [
    "sick = data[[\"Sick\"]]\n",
    "sick = pd.get_dummies(sick, drop_first= True)"
   ]
  },
  {
   "cell_type": "code",
   "execution_count": 25,
   "metadata": {},
   "outputs": [],
   "source": [
    "pregnant = data[[\"Pregnant\"]]\n",
    "pregnant = pd.get_dummies(pregnant, drop_first= True)"
   ]
  },
  {
   "cell_type": "code",
   "execution_count": 26,
   "metadata": {},
   "outputs": [],
   "source": [
    "thyroid_surgery = data[[\"Thyroid Surgery\"]]\n",
    "thyroid_surgery = pd.get_dummies(thyroid_surgery, drop_first= True)"
   ]
  },
  {
   "cell_type": "code",
   "execution_count": 27,
   "metadata": {},
   "outputs": [],
   "source": [
    "goitre = data[[\"Goitre\"]]\n",
    "goitre = pd.get_dummies(goitre, drop_first= True)"
   ]
  },
  {
   "cell_type": "code",
   "execution_count": 28,
   "metadata": {},
   "outputs": [],
   "source": [
    "tumor = data[[\"Tumor\"]]\n",
    "tumor = pd.get_dummies(tumor, drop_first= True)"
   ]
  },
  {
   "cell_type": "code",
   "execution_count": 29,
   "metadata": {},
   "outputs": [
    {
     "data": {
      "text/plain": [
       "Index(['Age', 'Sex', 'Sick', 'Pregnant', 'Thyroid Surgery', 'Goitre', 'Tumor',\n",
       "       'TSH', 'T3', 'TT4', 'T4U', 'FTI', 'Category'],\n",
       "      dtype='object')"
      ]
     },
     "execution_count": 29,
     "metadata": {},
     "output_type": "execute_result"
    }
   ],
   "source": [
    "data.columns"
   ]
  },
  {
   "cell_type": "code",
   "execution_count": 30,
   "metadata": {},
   "outputs": [],
   "source": [
    "final_df = pd.concat([data,sex, sick, pregnant, thyroid_surgery,\n",
    "       goitre, tumor,], axis = 1)"
   ]
  },
  {
   "cell_type": "code",
   "execution_count": 31,
   "metadata": {},
   "outputs": [
    {
     "data": {
      "text/plain": [
       "Index(['Age', 'Sex', 'Sick', 'Pregnant', 'Thyroid Surgery', 'Goitre', 'Tumor',\n",
       "       'TSH', 'T3', 'TT4', 'T4U', 'FTI', 'Category', 'Sex_M', 'Sick_t',\n",
       "       'Pregnant_t', 'Thyroid Surgery_t', 'Goitre_t', 'Tumor_t'],\n",
       "      dtype='object')"
      ]
     },
     "execution_count": 31,
     "metadata": {},
     "output_type": "execute_result"
    }
   ],
   "source": [
    "final_df.columns"
   ]
  },
  {
   "cell_type": "code",
   "execution_count": 32,
   "metadata": {},
   "outputs": [],
   "source": [
    "final_df.drop(['Sex', 'Sick', 'Pregnant', 'Thyroid Surgery',\n",
    "       'Goitre', 'Tumor'], axis = 1, inplace = True)"
   ]
  },
  {
   "cell_type": "code",
   "execution_count": 33,
   "metadata": {},
   "outputs": [
    {
     "data": {
      "text/plain": [
       "Age                  0\n",
       "TSH                  0\n",
       "T3                   0\n",
       "TT4                  0\n",
       "T4U                  0\n",
       "FTI                  0\n",
       "Category             0\n",
       "Sex_M                0\n",
       "Sick_t               0\n",
       "Pregnant_t           0\n",
       "Thyroid Surgery_t    0\n",
       "Goitre_t             0\n",
       "Tumor_t              0\n",
       "dtype: int64"
      ]
     },
     "execution_count": 33,
     "metadata": {},
     "output_type": "execute_result"
    }
   ],
   "source": [
    "## Checking the missing values\n",
    "final_df.isnull().sum()"
   ]
  },
  {
   "cell_type": "markdown",
   "metadata": {
    "_uuid": "40b6c0a9d03bcab78b87bd41c7df3fe1b930547a"
   },
   "source": [
    "## iii Exploratory Data Analysis (EDA)"
   ]
  },
  {
   "cell_type": "code",
   "execution_count": 34,
   "metadata": {},
   "outputs": [
    {
     "data": {
      "image/png": "[encoded data removed]",
      "text/plain": [
       "<Figure size 720x1080 with 6 Axes>"
      ]
     },
     "metadata": {},
     "output_type": "display_data"
    }
   ],
   "source": [
    "## Let's check the distribution for our continuous data in the dataset.\n",
    "columns = ['Age','TSH','T3','TT4','T4U','FTI']\n",
    "\n",
    "plt.figure(figsize=(10,15),facecolor='white')\n",
    "plotnumber = 1\n",
    "\n",
    "for column in columns:\n",
    "    ax = plt.subplot(3,2,plotnumber)\n",
    "    sns.distplot(final_df[column])\n",
    "    plt.xlabel(column,fontsize=10)\n",
    "    plotnumber+=1\n",
    "plt.show()"
   ]
  },
  {
   "cell_type": "code",
   "execution_count": 35,
   "metadata": {},
   "outputs": [],
   "source": [
    "from sklearn.preprocessing import LabelEncoder\n",
    "lblEn=LabelEncoder()\n",
    "final_df['Category']=lblEn.fit_transform(final_df['Category'])"
   ]
  },
  {
   "cell_type": "code",
   "execution_count": 36,
   "metadata": {},
   "outputs": [
    {
     "data": {
      "text/plain": [
       "<AxesSubplot:xlabel='Category', ylabel='count'>"
      ]
     },
     "execution_count": 36,
     "metadata": {},
     "output_type": "execute_result"
    },
    {
     "data": {
      "image/png": "[encoded data removed]",
      "text/plain": [
       "<Figure size 432x288 with 1 Axes>"
      ]
     },
     "metadata": {
      "needs_background": "light"
     },
     "output_type": "display_data"
    }
   ],
   "source": [
    "sns.countplot(final_df['Category'])"
   ]
  },
  {
   "cell_type": "code",
   "execution_count": 37,
   "metadata": {},
   "outputs": [
    {
     "data": {
      "text/plain": [
       "Age                  object\n",
       "TSH                  object\n",
       "T3                   object\n",
       "TT4                  object\n",
       "T4U                  object\n",
       "FTI                  object\n",
       "Category              int32\n",
       "Sex_M                 uint8\n",
       "Sick_t                uint8\n",
       "Pregnant_t            uint8\n",
       "Thyroid Surgery_t     uint8\n",
       "Goitre_t              uint8\n",
       "Tumor_t               uint8\n",
       "dtype: object"
      ]
     },
     "execution_count": 37,
     "metadata": {},
     "output_type": "execute_result"
    }
   ],
   "source": [
    "final_df.dtypes"
   ]
  },
  {
   "cell_type": "code",
   "execution_count": 38,
   "metadata": {},
   "outputs": [],
   "source": [
    "final_df['Age'] = final_df[\"Age\"].astype(int)\n",
    "final_df['TSH'] = final_df[\"TSH\"].astype(float)\n",
    "final_df['T3'] = final_df[\"T3\"].astype(float)\n",
    "final_df['TT4'] = final_df[\"TT4\"].astype(float)\n",
    "final_df['T4U'] = final_df[\"T4U\"].astype(float)\n",
    "final_df['FTI'] = final_df[\"FTI\"].astype(float)\n",
    "\n"
   ]
  },
  {
   "cell_type": "code",
   "execution_count": 39,
   "metadata": {},
   "outputs": [],
   "source": [
    "l=[\"Sex_M\",\"Sick_t\",\"Pregnant_t\",\"Thyroid Surgery_t\",\"Goitre_t\",\"Tumor_t\"]\n",
    "for i in l:\n",
    "    final_df['FTI'] = final_df[\"FTI\"].astype(int)\n",
    "    "
   ]
  },
  {
   "cell_type": "code",
   "execution_count": 40,
   "metadata": {},
   "outputs": [
    {
     "data": {
      "text/plain": [
       "Age                    int32\n",
       "TSH                  float64\n",
       "T3                   float64\n",
       "TT4                  float64\n",
       "T4U                  float64\n",
       "FTI                    int32\n",
       "Category               int32\n",
       "Sex_M                  uint8\n",
       "Sick_t                 uint8\n",
       "Pregnant_t             uint8\n",
       "Thyroid Surgery_t      uint8\n",
       "Goitre_t               uint8\n",
       "Tumor_t                uint8\n",
       "dtype: object"
      ]
     },
     "execution_count": 40,
     "metadata": {},
     "output_type": "execute_result"
    }
   ],
   "source": [
    "final_df.dtypes\n"
   ]
  },
  {
   "cell_type": "markdown",
   "metadata": {
    "_uuid": "d1c95f2180e264978c85703ece34898dab4d522b"
   },
   "source": [
    "## IV. Train Test split"
   ]
  },
  {
   "cell_type": "code",
   "execution_count": 41,
   "metadata": {},
   "outputs": [],
   "source": [
    "X=final_df.drop(['Category'],axis=1)\n",
    "Y=final_df.Category"
   ]
  },
  {
   "cell_type": "code",
   "execution_count": 42,
   "metadata": {},
   "outputs": [
    {
     "name": "stdout",
     "output_type": "stream",
     "text": [
      "Requirement already satisfied: imbalanced-learn in c:\\users\\hp\\anaconda3\\lib\\site-packages (0.9.0)\n",
      "Requirement already satisfied: threadpoolctl>=2.0.0 in c:\\users\\hp\\anaconda3\\lib\\site-packages (from imbalanced-learn) (2.2.0)\n",
      "Requirement already satisfied: joblib>=0.11 in c:\\users\\hp\\anaconda3\\lib\\site-packages (from imbalanced-learn) (1.1.0)\n",
      "Requirement already satisfied: numpy>=1.14.6 in c:\\users\\hp\\anaconda3\\lib\\site-packages (from imbalanced-learn) (1.22.3)\n",
      "Requirement already satisfied: scipy>=1.1.0 in c:\\users\\hp\\anaconda3\\lib\\site-packages (from imbalanced-learn) (1.7.1)\n",
      "Requirement already satisfied: scikit-learn>=1.0.1 in c:\\users\\hp\\anaconda3\\lib\\site-packages (from imbalanced-learn) (1.0.2)\n",
      "\n",
      "[notice] A new release of pip available: 22.1.2 -> 22.2\n",
      "[notice] To update, run: python.exe -m pip install --upgrade pip\n"
     ]
    }
   ],
   "source": [
    "! pip install imbalanced-learn"
   ]
  },
  {
   "cell_type": "code",
   "execution_count": 43,
   "metadata": {},
   "outputs": [
    {
     "data": {
      "text/plain": [
       "Index(['Age', 'TSH', 'T3', 'TT4', 'T4U', 'FTI', 'Sex_M', 'Sick_t',\n",
       "       'Pregnant_t', 'Thyroid Surgery_t', 'Goitre_t', 'Tumor_t'],\n",
       "      dtype='object')"
      ]
     },
     "execution_count": 43,
     "metadata": {},
     "output_type": "execute_result"
    },
    {
     "data": {
      "image/png": "[encoded data removed]",
      "text/plain": [
       "<Figure size 432x288 with 1 Axes>"
      ]
     },
     "metadata": {
      "needs_background": "light"
     },
     "output_type": "display_data"
    }
   ],
   "source": [
    "# 42 input\n",
    "\n",
    "from imblearn.over_sampling import SMOTE\n",
    "\n",
    "\n",
    "\n",
    "rdsmple=SMOTE()\n",
    "X_sampled,y_sampled=rdsmple.fit_resample(X,Y)\n",
    "\n",
    "X_sampled.shape\n",
    "\n",
    "\n",
    "X_sampled=pd.DataFrame(data=X_sampled,columns=X.columns)\n",
    "\n",
    "\n",
    "X_sampled\n",
    "\n",
    "\n",
    "sns.countplot(y_sampled)\n",
    "\n",
    "\n",
    "X_sampled.columns\n"
   ]
  },
  {
   "cell_type": "code",
   "execution_count": 44,
   "metadata": {
    "_uuid": "829fcda5b63e1b9f7ecb7762e8ca617166533aca"
   },
   "outputs": [],
   "source": [
    "from sklearn.model_selection import train_test_split\n",
    "X_train,X_test,y_train,y_test=train_test_split(X_sampled,y_sampled,test_size=0.2,random_state=0)"
   ]
  },
  {
   "cell_type": "code",
   "execution_count": 45,
   "metadata": {
    "_uuid": "7a74842015c2f193d16caa4fa25e2c4cbf1940f8"
   },
   "outputs": [
    {
     "data": {
      "text/plain": [
       "(8809, 12)"
      ]
     },
     "execution_count": 45,
     "metadata": {},
     "output_type": "execute_result"
    }
   ],
   "source": [
    "X_train.shape"
   ]
  },
  {
   "cell_type": "code",
   "execution_count": 46,
   "metadata": {
    "_uuid": "1f777652df4521deb877dac4d5d635d8cd35b279"
   },
   "outputs": [
    {
     "data": {
      "text/plain": [
       "(2203, 12)"
      ]
     },
     "execution_count": 46,
     "metadata": {},
     "output_type": "execute_result"
    }
   ],
   "source": [
    "X_test.shape"
   ]
  },
  {
   "cell_type": "code",
   "execution_count": 47,
   "metadata": {
    "_uuid": "028c968a076840657faf7dbc3bfee9fe7b5ca45a"
   },
   "outputs": [
    {
     "data": {
      "text/plain": [
       "(8809,)"
      ]
     },
     "execution_count": 47,
     "metadata": {},
     "output_type": "execute_result"
    }
   ],
   "source": [
    "y_train.shape"
   ]
  },
  {
   "cell_type": "code",
   "execution_count": 48,
   "metadata": {
    "_uuid": "eb6857dfc18da52dae38bec95d20106f39136e61"
   },
   "outputs": [
    {
     "data": {
      "text/plain": [
       "(2203,)"
      ]
     },
     "execution_count": 48,
     "metadata": {},
     "output_type": "execute_result"
    }
   ],
   "source": [
    "y_test.shape"
   ]
  },
  {
   "cell_type": "markdown",
   "metadata": {
    "_uuid": "3b4f28488a92917f26e9876c1880295ec9c077ed"
   },
   "source": [
    "## V. Model Fitting"
   ]
  },
  {
   "cell_type": "markdown",
   "metadata": {
    "_uuid": "4e26d165b57f3f7882570964f1c2dc4a548404de"
   },
   "source": [
    "### K Nearest Neighbors"
   ]
  },
  {
   "cell_type": "code",
   "execution_count": 49,
   "metadata": {
    "_uuid": "286352867c53d5fb7dac2fc9bf4b2ac58a466ad0"
   },
   "outputs": [],
   "source": [
    "from sklearn.neighbors import KNeighborsClassifier\n",
    "\n",
    "knn = KNeighborsClassifier(n_neighbors=7)\n",
    "knn.fit(X_train,y_train)\n",
    "Y_pred_knn=knn.predict(X_test)"
   ]
  },
  {
   "cell_type": "code",
   "execution_count": 50,
   "metadata": {
    "_uuid": "bccb7c1fcec36dd2eb7eb222f49604029adec2b4"
   },
   "outputs": [
    {
     "data": {
      "text/plain": [
       "(2203,)"
      ]
     },
     "execution_count": 50,
     "metadata": {},
     "output_type": "execute_result"
    }
   ],
   "source": [
    "Y_pred_knn.shape"
   ]
  },
  {
   "cell_type": "code",
   "execution_count": 51,
   "metadata": {
    "_uuid": "dda4e8f8f18f96557cdd38cee177de0456db5f45"
   },
   "outputs": [
    {
     "name": "stdout",
     "output_type": "stream",
     "text": [
      "The accuracy score achieved using KNN is: 84.84 %\n"
     ]
    }
   ],
   "source": [
    "score_knn = round(accuracy_score(Y_pred_knn,y_test)*100,2)\n",
    "\n",
    "print(\"The accuracy score achieved using KNN is: \"+str(score_knn)+\" %\")"
   ]
  },
  {
   "cell_type": "code",
   "execution_count": 52,
   "metadata": {},
   "outputs": [
    {
     "name": "stdout",
     "output_type": "stream",
     "text": [
      "Confusion Matrix is:\n",
      " [[542   0  11  10]\n",
      " [  1 539   0  13]\n",
      " [ 45  56 320 111]\n",
      " [ 50  25  12 468]]\n"
     ]
    },
    {
     "name": "stderr",
     "output_type": "stream",
     "text": [
      "findfont: Font family ['Helvetica'] not found. Falling back to DejaVu Sans.\n"
     ]
    },
    {
     "data": {
      "image/png": "[encoded data removed]",
      "text/plain": [
       "<Figure size 432x288 with 2 Axes>"
      ]
     },
     "metadata": {},
     "output_type": "display_data"
    }
   ],
   "source": [
    "from sklearn.metrics import confusion_matrix, classification_report \n",
    "cm = confusion_matrix(y_test, Y_pred_knn) \n",
    "print(\"Confusion Matrix is:\\n\",cm)\n",
    "\n",
    "sns.set_style(\"dark\")\n",
    "\n",
    "sns.heatmap(cm, annot=True, cmap=\"Blues_r\")\n",
    "plt.title(\"Confusion Matrix for KNN\", fontsize=14, fontname=\"Helvetica\", y=1.04);\n"
   ]
  },
  {
   "cell_type": "markdown",
   "metadata": {
    "_uuid": "abb767170c662e4d9a8b240fd0fd7286ffb0b67f"
   },
   "source": [
    "### Decision Tree"
   ]
  },
  {
   "cell_type": "code",
   "execution_count": 53,
   "metadata": {
    "_uuid": "8c141316764dce80103d1879c9b17d853702a746"
   },
   "outputs": [],
   "source": [
    "from sklearn.tree import DecisionTreeClassifier\n",
    "\n",
    "\n",
    "\n",
    "dt = DecisionTreeClassifier()\n",
    "dt.fit(X_train,y_train)\n",
    "Y_pred_dt = dt.predict(X_test)"
   ]
  },
  {
   "cell_type": "code",
   "execution_count": 54,
   "metadata": {
    "_uuid": "8de0bd2d57abd24d3a97a5b020a24439eb106f2b"
   },
   "outputs": [
    {
     "name": "stdout",
     "output_type": "stream",
     "text": [
      "(2203,)\n"
     ]
    }
   ],
   "source": [
    "print(Y_pred_dt.shape)"
   ]
  },
  {
   "cell_type": "code",
   "execution_count": 55,
   "metadata": {
    "_uuid": "52ab93482d3b53824e9bc2b3e4114c57253e0c5b"
   },
   "outputs": [
    {
     "name": "stdout",
     "output_type": "stream",
     "text": [
      "The accuracy score achieved using Decision Tree is: 86.25 %\n"
     ]
    }
   ],
   "source": [
    "score_dt = round(accuracy_score(Y_pred_dt,y_test)*100,2)\n",
    "\n",
    "print(\"The accuracy score achieved using Decision Tree is: \"+str(score_dt)+\" %\")"
   ]
  },
  {
   "cell_type": "code",
   "execution_count": 56,
   "metadata": {},
   "outputs": [
    {
     "name": "stdout",
     "output_type": "stream",
     "text": [
      "Confusion Matrix is:\n",
      " [[516   0  20  27]\n",
      " [  0 501  41  11]\n",
      " [ 23  45 430  34]\n",
      " [ 28  25  49 453]]\n"
     ]
    },
    {
     "data": {
      "image/png": "[encoded data removed]",
      "text/plain": [
       "<Figure size 432x288 with 2 Axes>"
      ]
     },
     "metadata": {},
     "output_type": "display_data"
    }
   ],
   "source": [
    "from sklearn.metrics import confusion_matrix, classification_report \n",
    "cm = confusion_matrix(y_test, Y_pred_dt) \n",
    "print(\"Confusion Matrix is:\\n\",cm)\n",
    "\n",
    "sns.set_style(\"dark\")\n",
    "\n",
    "sns.heatmap(cm, annot=True, cmap=\"Blues_r\")\n",
    "plt.title(\"Confusion Matrix for Decision Tree\", fontsize=14, fontname=\"Helvetica\", y=1.04);\n"
   ]
  },
  {
   "cell_type": "markdown",
   "metadata": {
    "_uuid": "9e663d26efb00a434751f06ad0292949eff6c358"
   },
   "source": [
    "### Random Forest"
   ]
  },
  {
   "cell_type": "code",
   "execution_count": 57,
   "metadata": {
    "_uuid": "8284f5222cf90be1bcd37887c45f91cf22ed1193"
   },
   "outputs": [],
   "source": [
    "from sklearn.ensemble import RandomForestClassifier\n",
    "\n",
    "\n",
    "rf = RandomForestClassifier()\n",
    "rf.fit(X_train,y_train)\n",
    "Y_pred_rf = rf.predict(X_test)"
   ]
  },
  {
   "cell_type": "code",
   "execution_count": 58,
   "metadata": {
    "_uuid": "edc8e1cbb57be0aa9e9ad5f4997212d53a9a4c99"
   },
   "outputs": [
    {
     "data": {
      "text/plain": [
       "(2203,)"
      ]
     },
     "execution_count": 58,
     "metadata": {},
     "output_type": "execute_result"
    }
   ],
   "source": [
    "Y_pred_rf.shape"
   ]
  },
  {
   "cell_type": "code",
   "execution_count": 59,
   "metadata": {},
   "outputs": [
    {
     "name": "stdout",
     "output_type": "stream",
     "text": [
      "Confusion Matrix is:\n",
      " [[528   0  10  25]\n",
      " [  0 509  37   7]\n",
      " [ 21  43 425  43]\n",
      " [ 32  19  23 481]]\n"
     ]
    },
    {
     "data": {
      "image/png": "[encoded data removed]",
      "text/plain": [
       "<Figure size 432x288 with 2 Axes>"
      ]
     },
     "metadata": {},
     "output_type": "display_data"
    }
   ],
   "source": [
    "from sklearn.metrics import confusion_matrix, classification_report \n",
    "cm = confusion_matrix(y_test, Y_pred_rf) \n",
    "print(\"Confusion Matrix is:\\n\",cm)\n",
    "\n",
    "sns.set_style(\"dark\")\n",
    "\n",
    "sns.heatmap(cm, annot=True, cmap=\"Blues_r\")\n",
    "plt.title(\"Confusion Matrix for Random Forest\", fontsize=14, fontname=\"Helvetica\", y=1.04);\n"
   ]
  },
  {
   "cell_type": "code",
   "execution_count": 60,
   "metadata": {
    "_uuid": "965228f30e05e07e7960a3375dc7dc85b49caed7"
   },
   "outputs": [
    {
     "name": "stdout",
     "output_type": "stream",
     "text": [
      "The accuracy score achieved using Decision Tree is: 88.2 %\n"
     ]
    }
   ],
   "source": [
    "score_rf = round(accuracy_score(Y_pred_rf,y_test)*100,2)\n",
    "\n",
    "print(\"The accuracy score achieved using Decision Tree is: \"+str(score_rf)+\" %\")"
   ]
  },
  {
   "cell_type": "code",
   "execution_count": 61,
   "metadata": {},
   "outputs": [
    {
     "name": "stdout",
     "output_type": "stream",
     "text": [
      "[09:54:28] WARNING: C:/Users/Administrator/workspace/xgboost-win64_release_1.5.1/src/learner.cc:1115: Starting in XGBoost 1.3.0, the default evaluation metric used with the objective 'multi:softprob' was changed from 'merror' to 'mlogloss'. Explicitly set eval_metric if you'd like to restore the old behavior.\n"
     ]
    },
    {
     "data": {
      "text/plain": [
       "XGBClassifier(base_score=0.5, booster='gbtree', colsample_bylevel=1,\n",
       "              colsample_bynode=1, colsample_bytree=1, enable_categorical=False,\n",
       "              gamma=0, gpu_id=-1, importance_type=None,\n",
       "              interaction_constraints='', learning_rate=0.300000012,\n",
       "              max_delta_step=0, max_depth=4, min_child_weight=1, missing=nan,\n",
       "              monotone_constraints='()', n_estimators=100, n_jobs=8,\n",
       "              num_parallel_tree=1, objective='multi:softprob', predictor='auto',\n",
       "              random_state=0, reg_alpha=0, reg_lambda=1, scale_pos_weight=None,\n",
       "              subsample=1, tree_method='exact', validate_parameters=1,\n",
       "              verbosity=None)"
      ]
     },
     "execution_count": 61,
     "metadata": {},
     "output_type": "execute_result"
    }
   ],
   "source": [
    "from xgboost import XGBClassifier\n",
    "xgb = XGBClassifier(booster='gbtree', max_depth=4)\n",
    "xgb.fit(X_train,y_train)"
   ]
  },
  {
   "cell_type": "code",
   "execution_count": 62,
   "metadata": {},
   "outputs": [
    {
     "name": "stdout",
     "output_type": "stream",
     "text": [
      "XGB Accuracy: 95.45918946531955\n"
     ]
    }
   ],
   "source": [
    "score_xgb=xgb.score(X_train, y_train)*100\n",
    "print('XGB Accuracy:', xgb.score(X_train, y_train)*100)"
   ]
  },
  {
   "cell_type": "code",
   "execution_count": 63,
   "metadata": {},
   "outputs": [
    {
     "data": {
      "image/png": "[encoded data removed]",
      "text/plain": [
       "<Figure size 432x288 with 2 Axes>"
      ]
     },
     "metadata": {},
     "output_type": "display_data"
    }
   ],
   "source": [
    "# Confusion Matrix of XGB\n",
    "\n",
    "y_pred_xgb= xgb.predict(X_test)\n",
    "cf_matrix = confusion_matrix(y_test, y_pred_xgb)\n",
    "sns.heatmap(cf_matrix, annot=True, cmap=\"Blues_r\")\n",
    "plt.title(\"Confusion Matrix for XGB\", fontsize=14, fontname=\"Helvetica\", y=1.04);"
   ]
  },
  {
   "cell_type": "code",
   "execution_count": null,
   "metadata": {},
   "outputs": [],
   "source": []
  },
  {
   "cell_type": "markdown",
   "metadata": {
    "_uuid": "c634cd922d716d350f6db0244772260cc598dec4"
   },
   "source": [
    "## VI. Output final score"
   ]
  },
  {
   "cell_type": "code",
   "execution_count": 64,
   "metadata": {
    "_uuid": "101daa51242624c49bb8b3198d9d2c9f8f1c596e"
   },
   "outputs": [
    {
     "name": "stdout",
     "output_type": "stream",
     "text": [
      "The accuracy score for K-Nearest Neighbors is: 84.84 %\n",
      "The accuracy score for Decision Tree is: 86.25 %\n",
      "The accuracy score for Random Forest is: 88.2 %\n",
      "The accuracy score for XGBOOST is: 95.45918946531955 %\n"
     ]
    }
   ],
   "source": [
    "scores = [score_knn,score_dt,score_rf,score_xgb]\n",
    "algo = [\"K-Nearest Neighbors\",\"Decision Tree\",\"Random Forest\",\"XGBOOST\"]    \n",
    "\n",
    "for i in range(len(algo)):\n",
    "    print(\"The accuracy score for \"+algo[i]+\" is: \"+str(scores[i])+\" %\")"
   ]
  },
  {
   "cell_type": "code",
   "execution_count": 65,
   "metadata": {
    "_uuid": "8060c7d426f9f7b64772f37e0a74ededca16838d"
   },
   "outputs": [
    {
     "data": {
      "text/plain": [
       "<AxesSubplot:title={'center':'Comparsion of algorithms'}, xlabel='<------  Algorithms  ------>', ylabel='<------  Accuracy score  ------>'>"
      ]
     },
     "execution_count": 65,
     "metadata": {},
     "output_type": "execute_result"
    },
    {
     "data": {
      "image/png": "[encoded data removed]",
      "text/plain": [
       "<Figure size 1080x576 with 1 Axes>"
      ]
     },
     "metadata": {},
     "output_type": "display_data"
    }
   ],
   "source": [
    "sns.set(rc={'figure.figsize':(15,8)})\n",
    "plt.xlabel(\"<------  Algorithms  ------>\")\n",
    "plt.ylabel(\"<------  Accuracy score  ------>\")\n",
    "plt.title(\"Comparsion of algorithms\")\n",
    "\n",
    "sns.barplot(algo,scores)"
   ]
  },
  {
   "cell_type": "markdown",
   "metadata": {},
   "source": [
    "### classification report for each algorithm "
   ]
  },
  {
   "cell_type": "code",
   "execution_count": null,
   "metadata": {},
   "outputs": [],
   "source": [
    "l=[Y_pred_knn,Y_pred_dt,Y_pred_rf,y_pred_xgb]\n",
    "for i in range(len(algo)):\n",
    "    print(\"-------------------------------------------------------\")\n",
    "    print(algo[i])\n",
    "    print(\"-------------------------------------------------------\")\n",
    "    print(\"Classification Report is:\\n\\n\",classification_report(y_test,l[i]))\n",
    "\n",
    "    "
   ]
  },
  {
   "cell_type": "code",
   "execution_count": 67,
   "metadata": {},
   "outputs": [
    {
     "data": {
      "image/png": "[encoded data removed]",
      "text/plain": [
       "<Figure size 2700x1200 with 1 Axes>"
      ]
     },
     "metadata": {},
     "output_type": "display_data"
    }
   ],
   "source": [
    "sns.set_style(\"whitegrid\")\n",
    "sns.color_palette(\"Paired\")\n",
    "plt.figure(figsize=(18,8), dpi=150)\n",
    "ax = sns.barplot(x=algo, y=scores)\n",
    "plt.title(\"Accuracy of Models\")\n",
    "plt.xlabel('Classification Models')\n",
    "plt.ylabel(\"Accuracy of Classification Model\")\n",
    "for i in ax.patches:\n",
    "    width, height = i.get_width(), i.get_height()\n",
    "    x, y = i.get_xy() \n",
    "    ax.annotate(f'{round(height,2)}%', (x + width/2, y + height*1.02), ha='center')\n",
    "plt.show()"
   ]
  },
  {
   "cell_type": "code",
   "execution_count": null,
   "metadata": {},
   "outputs": [],
   "source": []
  },
  {
   "cell_type": "code",
   "execution_count": null,
   "metadata": {},
   "outputs": [],
   "source": []
  },
  {
   "cell_type": "code",
   "execution_count": null,
   "metadata": {},
   "outputs": [],
   "source": []
  }
 ],
 "metadata": {
  "kernelspec": {
   "display_name": "Python 3 (ipykernel)",
   "language": "python",
   "name": "python3"
  },
  "language_info": {
   "codemirror_mode": {
    "name": "ipython",
    "version": 3
   },
   "file_extension": ".py",
   "mimetype": "text/x-python",
   "name": "python",
   "nbconvert_exporter": "python",
   "pygments_lexer": "ipython3",
   "version": "3.9.7"
  }
 },
 "nbformat": 4,
 "nbformat_minor": 1
}
